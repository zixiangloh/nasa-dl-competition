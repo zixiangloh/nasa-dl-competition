{
 "cells": [
  {
   "cell_type": "code",
   "execution_count": 3,
   "id": "eb62ea21",
   "metadata": {},
   "outputs": [],
   "source": [
    "import subprocess"
   ]
  },
  {
   "cell_type": "code",
   "execution_count": 4,
   "id": "4a91d80e",
   "metadata": {},
   "outputs": [],
   "source": [
    "files = [\n",
    "    's3://drivendata-competition-airathon-public-us/pm25/train/maiac/2018/20180604T054500_maiac_dl_0.hdf',\n",
    "'s3://drivendata-competition-airathon-public-us/pm25/train/maiac/2019/20190604T065000_maiac_dl_0.hdf',\n",
    "'s3://drivendata-competition-airathon-public-us/pm25/train/maiac/2020/20200604T070000_maiac_dl_0.hdf',\n",
    "    's3://drivendata-competition-airathon-public-us/pm25/train/maiac/2018/20180216T065500_maiac_dl_0.hdf'\n",
    "]"
   ]
  },
  {
   "cell_type": "code",
   "execution_count": 5,
   "id": "b5104ed1",
   "metadata": {},
   "outputs": [
    {
     "name": "stdout",
     "output_type": "stream",
     "text": [
      "download: s3://drivendata-competition-airathon-public-us/pm25/train/maiac/2018/20180604T054500_maiac_dl_0.hdf to dataset/20180604T054500_maiac_dl_0.hdf\n",
      "download: s3://drivendata-competition-airathon-public-us/pm25/train/maiac/2019/20190604T065000_maiac_dl_0.hdf to dataset/20190604T065000_maiac_dl_0.hdf\n",
      "download: s3://drivendata-competition-airathon-public-us/pm25/train/maiac/2020/20200604T070000_maiac_dl_0.hdf to dataset/20200604T070000_maiac_dl_0.hdf\n",
      "download: s3://drivendata-competition-airathon-public-us/pm25/train/maiac/2018/20180216T065500_maiac_dl_0.hdf to dataset/20180216T065500_maiac_dl_0.hdf\n"
     ]
    }
   ],
   "source": [
    "for file in files:\n",
    "    subprocess.run([\"aws\", \"s3\", \"cp\", file, \"./dataset\", \"--no-sign-request\"])"
   ]
  },
  {
   "cell_type": "code",
   "execution_count": null,
   "id": "eb19b6e4",
   "metadata": {},
   "outputs": [],
   "source": []
  }
 ],
 "metadata": {
  "kernelspec": {
   "display_name": "Python 3 (ipykernel)",
   "language": "python",
   "name": "python3"
  },
  "language_info": {
   "codemirror_mode": {
    "name": "ipython",
    "version": 3
   },
   "file_extension": ".py",
   "mimetype": "text/x-python",
   "name": "python",
   "nbconvert_exporter": "python",
   "pygments_lexer": "ipython3",
   "version": "3.9.7"
  }
 },
 "nbformat": 4,
 "nbformat_minor": 5
}
