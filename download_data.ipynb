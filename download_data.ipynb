{
 "cells": [
  {
   "cell_type": "code",
   "execution_count": null,
   "id": "eb62ea21",
   "metadata": {},
   "outputs": [],
   "source": [
    "import subprocess\n",
    "import pandas as pd\n",
    "import os"
   ]
  },
  {
   "cell_type": "code",
   "execution_count": null,
   "id": "4a91d80e",
   "metadata": {},
   "outputs": [],
   "source": [
    "geo = 'us'  # 'us', 'eu' or 'as' only\n",
    "\n",
    "# We read in the satelite metadata and download all necessary files\n",
    "df = pd.read_csv('pm25_satellite_metadata.csv', sep=',')\n",
    "df.reset_index()\n",
    "\n",
    "active_abspath = os.path.abspath('')\n",
    "train_abspath = os.path.join(active_abspath, \"train\")\n",
    "test_abspath = os.path.join(active_abspath, \"test\")\n",
    "# We create a folder called train/ and a folder called test/ for training and testing data respectively\n",
    "if not os.path.isdir(train_abspath):\n",
    "    os.mkdir(train_abspath)\n",
    "\n",
    "if not os.path.isdir(test_abspath):\n",
    "    os.mkdir(test_abspath)\n",
    "\n",
    "# AWS version check\n",
    "print(\"Checking AWS CLI...\")\n",
    "subprocess.run([\"aws\", \"--version\"], check=True, capture_output=True)\n",
    "    \n",
    "for idx, row in df.iterrows(): \n",
    "    filename = row['granule_id']\n",
    "    download_path = row[geo + '_url']\n",
    "    split = row['split']\n",
    "    active_path = train_abspath if split == \"train\" else test_abspath\n",
    "    info_string = \"Current idx: {:d}, Split: {}, Filename: {}. \".format(idx, split, filename)\n",
    "    if not os.path.isfile(os.path.join(active_path, filename)):\n",
    "        print(info_string + \"File Not Found. Downloading...\")\n",
    "        subprocess.run([\"aws\", \"s3\", \"cp\", download_path, active_path, \"--no-sign-request\"], check=True, capture_output=True)\n",
    "    else:\n",
    "        print(info_string + \"File Found. Skipping...\")"
   ]
  },
  {
   "cell_type": "code",
   "execution_count": null,
   "id": "eb19b6e4",
   "metadata": {},
   "outputs": [],
   "source": []
  }
 ],
 "metadata": {
  "kernelspec": {
   "display_name": "Python 3 (ipykernel)",
   "language": "python",
   "name": "python3"
  },
  "language_info": {
   "codemirror_mode": {
    "name": "ipython",
    "version": 3
   },
   "file_extension": ".py",
   "mimetype": "text/x-python",
   "name": "python",
   "nbconvert_exporter": "python",
   "pygments_lexer": "ipython3",
   "version": "3.9.7"
  }
 },
 "nbformat": 4,
 "nbformat_minor": 5
}
