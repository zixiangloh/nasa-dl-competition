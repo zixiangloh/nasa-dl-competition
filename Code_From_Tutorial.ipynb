{
 "cells": [
  {
   "cell_type": "code",
   "execution_count": 74,
   "id": "e1803433",
   "metadata": {
    "scrolled": false
   },
   "outputs": [],
   "source": [
    "\"\"\"\n",
    "Reference: https://www.drivendata.co/blog/predict-pm25-benchmark/\n",
    "\n",
    "pyhdf appears to be more powerful than gdal, so it may be worth adopting some of the \n",
    "methods used here for working with hdf files.\n",
    "\n",
    "Additionally, the tutorial shows how to make a masked numpy array, which allows us to work\n",
    "with sparse arrays? (I'm not sure how this works yet.)\n",
    "\n",
    "Finally, the tutorial explains how to align AOD data with coordinates. This could let us\n",
    "make some useful model features, like local weather conditions, etc.\n",
    "\n",
    "\"\"\"\n",
    "\n",
    "import pandas as pd\n",
    "from datetime import datetime\n",
    "from osgeo import gdal\n",
    "import numpy as np\n",
    "from keras.models import Sequential\n",
    "from keras.layers import Dense\n",
    "from keras.layers import Conv2D\n",
    "from keras.layers import MaxPooling2D\n",
    "from keras.layers import Flatten\n",
    "import keras.backend as backend\n",
    "from keras.wrappers.scikit_learn import KerasRegressor\n",
    "from sklearn.model_selection import cross_val_score\n",
    "from dateutil import parser\n",
    "import matplotlib.pyplot as plt\n",
    "import os\n",
    "\n",
    "\n",
    "\n",
    "# from pathlib import Path\n",
    "# import random\n",
    "# from typing import Dict, List, Union\n",
    "\n",
    "# from cloudpathlib import S3Path\n",
    "import geopandas as gpd\n",
    "# import rasterio\n",
    "\n",
    "# DATA_PATH = Path.cwd().parent / \"data\"\n",
    "# RAW = DATA_PATH / \"raw\"\n",
    "# INTERIM = DATA_PATH / \"interim\""
   ]
  },
  {
   "cell_type": "code",
   "execution_count": 2,
   "id": "cc35378b",
   "metadata": {},
   "outputs": [
    {
     "name": "stdout",
     "output_type": "stream",
     "text": [
      "2018-02-01 17:25:00+00:00\n"
     ]
    },
    {
     "data": {
      "text/plain": [
       "Index(['time_start', 'time_end', 'product', 'location', 'split', 'us_url',\n",
       "       'eu_url', 'as_url', 'cksum', 'granule_size'],\n",
       "      dtype='object')"
      ]
     },
     "execution_count": 2,
     "metadata": {},
     "output_type": "execute_result"
    }
   ],
   "source": [
    "pm_md = pd.read_csv(\n",
    "    \"pm25_satellite_metadata.csv\",\n",
    "    parse_dates=[\"time_start\", \"time_end\"],\n",
    "    index_col=0\n",
    ")\n",
    "\n",
    "grid_md = pd.read_csv(\n",
    "    \"grid_metadata.csv\",\n",
    "    index_col=0\n",
    ")\n",
    "\n",
    "\n",
    "maiac_md = pm_md[(pm_md[\"product\"] == \"maiac\") & (pm_md[\"split\"] == \"train\")].copy()\n",
    "maiac_md.shape\n",
    "print(maiac_md['time_start']['20180201T191000_maiac_la_0.hdf'])\n",
    "pm_md.keys()"
   ]
  },
  {
   "cell_type": "code",
   "execution_count": 35,
   "id": "5296bde4",
   "metadata": {},
   "outputs": [
    {
     "name": "stdout",
     "output_type": "stream",
     "text": [
      "(13, 8)\n",
      "{'Optical_Depth_047': (('Orbits:grid1km', 'YDim:grid1km', 'XDim:grid1km'), (4, 1200, 1200), 22, 0), 'Optical_Depth_055': (('Orbits:grid1km', 'YDim:grid1km', 'XDim:grid1km'), (4, 1200, 1200), 22, 1), 'AOD_Uncertainty': (('Orbits:grid1km', 'YDim:grid1km', 'XDim:grid1km'), (4, 1200, 1200), 22, 2), 'FineModeFraction': (('Orbits:grid1km', 'YDim:grid1km', 'XDim:grid1km'), (4, 1200, 1200), 22, 3), 'Column_WV': (('Orbits:grid1km', 'YDim:grid1km', 'XDim:grid1km'), (4, 1200, 1200), 22, 4), 'AOD_QA': (('Orbits:grid1km', 'YDim:grid1km', 'XDim:grid1km'), (4, 1200, 1200), 23, 5), 'AOD_MODEL': (('Orbits:grid1km', 'YDim:grid1km', 'XDim:grid1km'), (4, 1200, 1200), 21, 6), 'Injection_Height': (('Orbits:grid1km', 'YDim:grid1km', 'XDim:grid1km'), (4, 1200, 1200), 5, 7), 'cosSZA': (('Orbits:grid5km', 'YDim:grid5km', 'XDim:grid5km'), (4, 240, 240), 22, 8), 'cosVZA': (('Orbits:grid5km', 'YDim:grid5km', 'XDim:grid5km'), (4, 240, 240), 22, 9), 'RelAZ': (('Orbits:grid5km', 'YDim:grid5km', 'XDim:grid5km'), (4, 240, 240), 22, 10), 'Scattering_Angle': (('Orbits:grid5km', 'YDim:grid5km', 'XDim:grid5km'), (4, 240, 240), 22, 11), 'Glint_Angle': (('Orbits:grid5km', 'YDim:grid5km', 'XDim:grid5km'), (4, 240, 240), 22, 12)}\n"
     ]
    }
   ],
   "source": [
    "#Playing around with datasets\n",
    "\n",
    "from pyhdf.SD import SD, SDC, SDS\n",
    "import pyproj\n",
    "\n",
    "\n",
    "hdf = SD('train/20180201T191000_maiac_la_0.hdf')\n",
    "print(hdf.info())\n",
    "print(hdf.datasets())\n"
   ]
  },
  {
   "cell_type": "code",
   "execution_count": 38,
   "id": "3f49cc97",
   "metadata": {},
   "outputs": [
    {
     "name": "stdout",
     "output_type": "stream",
     "text": [
      "Dataset name: Optical_Depth_047\n",
      "Number of dimensions: 3\n",
      "Shape: [4, 1200, 1200]\n",
      "Data type: 22\n",
      "Number of attributes: 6\n"
     ]
    }
   ],
   "source": [
    "blue_band_AOD = hdf.select(\"Optical_Depth_047\")\n",
    "name, num_dim, shape, types, num_attr = blue_band_AOD.info()\n",
    "print(\n",
    "f\"\"\"Dataset name: {name}\n",
    "Number of dimensions: {num_dim}\n",
    "Shape: {shape}\n",
    "Data type: {types}\n",
    "Number of attributes: {num_attr}\"\"\"\n",
    ")"
   ]
  },
  {
   "cell_type": "code",
   "execution_count": 39,
   "id": "bc510abd",
   "metadata": {
    "scrolled": true
   },
   "outputs": [
    {
     "data": {
      "text/plain": [
       "array([[[-28672, -28672, -28672, ..., -28672, -28672, -28672],\n",
       "        [-28672, -28672, -28672, ..., -28672, -28672, -28672],\n",
       "        [-28672, -28672, -28672, ..., -28672, -28672, -28672],\n",
       "        ...,\n",
       "        [-28672, -28672, -28672, ..., -28672, -28672, -28672],\n",
       "        [-28672, -28672, -28672, ..., -28672, -28672, -28672],\n",
       "        [-28672, -28672, -28672, ..., -28672, -28672, -28672]],\n",
       "\n",
       "       [[-28672, -28672, -28672, ..., -28672, -28672, -28672],\n",
       "        [-28672, -28672, -28672, ..., -28672, -28672, -28672],\n",
       "        [-28672, -28672, -28672, ..., -28672, -28672, -28672],\n",
       "        ...,\n",
       "        [    21,     21,     21, ..., -28672, -28672, -28672],\n",
       "        [    22,     21,     21, ..., -28672, -28672, -28672],\n",
       "        [    24,     22,     21, ..., -28672, -28672, -28672]],\n",
       "\n",
       "       [[-28672, -28672, -28672, ..., -28672, -28672, -28672],\n",
       "        [-28672, -28672, -28672, ..., -28672, -28672, -28672],\n",
       "        [-28672, -28672, -28672, ..., -28672, -28672, -28672],\n",
       "        ...,\n",
       "        [    73,     65,     53, ..., -28672, -28672, -28672],\n",
       "        [    62,     57,     51, ..., -28672, -28672, -28672],\n",
       "        [    56,     48,     41, ..., -28672, -28672, -28672]],\n",
       "\n",
       "       [[-28672, -28672, -28672, ..., -28672, -28672, -28672],\n",
       "        [-28672, -28672, -28672, ..., -28672, -28672, -28672],\n",
       "        [-28672, -28672, -28672, ..., -28672, -28672, -28672],\n",
       "        ...,\n",
       "        [-28672, -28672, -28672, ..., -28672, -28672, -28672],\n",
       "        [-28672, -28672, -28672, ..., -28672, -28672, -28672],\n",
       "        [-28672, -28672, -28672, ..., -28672, -28672, -28672]]],\n",
       "      dtype=int16)"
      ]
     },
     "execution_count": 39,
     "metadata": {},
     "output_type": "execute_result"
    }
   ],
   "source": [
    "blue_band_AOD.get()"
   ]
  },
  {
   "cell_type": "code",
   "execution_count": 40,
   "id": "c54a7f20",
   "metadata": {},
   "outputs": [
    {
     "data": {
      "text/plain": [
       "{'long_name': 'AOD at 0.47 micron',\n",
       " 'scale_factor': 0.001,\n",
       " 'add_offset': 0.0,\n",
       " 'unit': 'none',\n",
       " '_FillValue': -28672,\n",
       " 'valid_range': [-100, 5000]}"
      ]
     },
     "execution_count": 40,
     "metadata": {},
     "output_type": "execute_result"
    }
   ],
   "source": [
    "calibration_dict = blue_band_AOD.attributes()\n",
    "calibration_dict"
   ]
  },
  {
   "cell_type": "code",
   "execution_count": 55,
   "id": "a92e1dd6",
   "metadata": {},
   "outputs": [
    {
     "data": {
      "text/plain": [
       "{'GROUP': 'MergedFields',\n",
       " 'END_GROUP': 'MergedFields',\n",
       " 'GridName': 'grid1km',\n",
       " 'XDim': 1200,\n",
       " 'YDim': 1200,\n",
       " 'UpperLeftPointMtrs': (-11119505.196667, 4447802.078667),\n",
       " 'LowerRightMtrs': (-10007554.677, 3335851.559),\n",
       " 'Projection': 'GCTP_SNSOID',\n",
       " 'ProjParams': (6371007.181, 0, 0, 0, 0, 0, 0, 0, 0, 0, 0, 0, 0),\n",
       " 'SphereCode': -1,\n",
       " 'GridOrigin': 'HDFE_GD_UL',\n",
       " 'OBJECT': 'DataField_8',\n",
       " 'DimensionName': 'Orbits',\n",
       " 'Size': 4,\n",
       " 'END_OBJECT': 'DataField_8',\n",
       " 'DataFieldName': 'Injection_Height',\n",
       " 'DataType': 'DFNT_FLOAT32',\n",
       " 'DimList': ('Orbits', 'YDim', 'XDim')}"
      ]
     },
     "execution_count": 55,
     "metadata": {},
     "output_type": "execute_result"
    }
   ],
   "source": [
    "raw_attr = hdf.attributes()[\"StructMetadata.0\"]\n",
    "group_1 = raw_attr.split(\"END_GROUP=GRID_1\")[0]\n",
    "# print(group_1)\n",
    "\n",
    "hdf_metadata = dict([x.split(\"=\") for x in group_1.split() if \"=\" in x])\n",
    "\n",
    "# Parse expressions still wrapped in apostrophes\n",
    "for key, val in hdf_metadata.items():\n",
    "    try:\n",
    "        hdf_metadata[key] = eval(val)\n",
    "    except:\n",
    "        pass\n",
    "\n",
    "hdf_metadata"
   ]
  },
  {
   "cell_type": "code",
   "execution_count": 56,
   "id": "3b8322d2",
   "metadata": {},
   "outputs": [
    {
     "data": {
      "text/plain": [
       "{'upper_left': (-11119505.196667, 4447802.078667),\n",
       " 'lower_right': (-10007554.677, 3335851.559),\n",
       " 'crs': 'GCTP_SNSOID',\n",
       " 'crs_params': (6371007.181, 0, 0, 0, 0, 0, 0, 0, 0, 0, 0, 0, 0)}"
      ]
     },
     "execution_count": 56,
     "metadata": {},
     "output_type": "execute_result"
    }
   ],
   "source": [
    "# Note that coordinates are provided in meters\n",
    "alignment_dict = {\n",
    "    \"upper_left\": hdf_metadata[\"UpperLeftPointMtrs\"],\n",
    "    \"lower_right\": hdf_metadata[\"LowerRightMtrs\"],\n",
    "    \"crs\": hdf_metadata[\"Projection\"],\n",
    "    \"crs_params\": hdf_metadata[\"ProjParams\"]\n",
    "}\n",
    "alignment_dict"
   ]
  },
  {
   "cell_type": "code",
   "execution_count": null,
   "id": "cf7859a6",
   "metadata": {},
   "outputs": [],
   "source": [
    "\"\"\"\n",
    "DATA PROCESSING\n",
    "\n",
    "\"\"\""
   ]
  },
  {
   "cell_type": "code",
   "execution_count": 59,
   "id": "0d8332b2",
   "metadata": {},
   "outputs": [],
   "source": [
    "# Loop over orbits to apply the attributes\n",
    "def calibrate_data(dataset: SDS, shape: list[int], calibration_dict: dict):\n",
    "    \"\"\"Given a MAIAC dataset and calibration parameters, return a masked\n",
    "    array of calibrated data.\n",
    "    \n",
    "    Args:\n",
    "        dataset (SDS): dataset in SDS format (e.g. blue band AOD).\n",
    "        shape (List[int]): dataset shape as a list of [orbits, height, width].\n",
    "        calibration_dict (Dict): dictionary containing, at a minimum,\n",
    "            `valid_range` (list or tuple), `_FillValue` (int or float),\n",
    "            `add_offset` (float), and `scale_factor` (float).\n",
    "    \n",
    "    Returns:\n",
    "        corrected_AOD (np.ma.MaskedArray): masked array of calibrated data\n",
    "            with a fill value of nan.\n",
    "    \"\"\"\n",
    "    corrected_AOD = np.ma.empty(shape, dtype=np.double)\n",
    "    for orbit in range(shape[0]):\n",
    "        data = dataset[orbit, :, :].astype(np.double)\n",
    "        invalid_condition = (\n",
    "            (data < calibration_dict[\"valid_range\"][0]) |\n",
    "            (data > calibration_dict[\"valid_range\"][1]) |\n",
    "            (data == calibration_dict[\"_FillValue\"])\n",
    "        )\n",
    "        data[invalid_condition] = np.nan\n",
    "        data = (\n",
    "            (data - calibration_dict[\"add_offset\"]) *\n",
    "            calibration_dict[\"scale_factor\"]\n",
    "        )\n",
    "        data = np.ma.masked_array(data, np.isnan(data))\n",
    "        corrected_AOD[orbit, : :] = data\n",
    "    corrected_AOD.fill_value = np.nan\n",
    "    return corrected_AOD\n",
    "\n"
   ]
  },
  {
   "cell_type": "code",
   "execution_count": 60,
   "id": "a3e71c52",
   "metadata": {},
   "outputs": [
    {
     "data": {
      "text/plain": [
       "masked_array(\n",
       "  data=[[[--, --, --, ..., --, --, --],\n",
       "         [--, --, --, ..., --, --, --],\n",
       "         [--, --, --, ..., --, --, --],\n",
       "         ...,\n",
       "         [--, --, --, ..., --, --, --],\n",
       "         [--, --, --, ..., --, --, --],\n",
       "         [--, --, --, ..., --, --, --]],\n",
       "\n",
       "        [[--, --, --, ..., --, --, --],\n",
       "         [--, --, --, ..., --, --, --],\n",
       "         [--, --, --, ..., --, --, --],\n",
       "         ...,\n",
       "         [0.021, 0.021, 0.021, ..., --, --, --],\n",
       "         [0.022, 0.021, 0.021, ..., --, --, --],\n",
       "         [0.024, 0.022, 0.021, ..., --, --, --]],\n",
       "\n",
       "        [[--, --, --, ..., --, --, --],\n",
       "         [--, --, --, ..., --, --, --],\n",
       "         [--, --, --, ..., --, --, --],\n",
       "         ...,\n",
       "         [0.073, 0.065, 0.053, ..., --, --, --],\n",
       "         [0.062, 0.057, 0.051000000000000004, ..., --, --, --],\n",
       "         [0.056, 0.048, 0.041, ..., --, --, --]],\n",
       "\n",
       "        [[--, --, --, ..., --, --, --],\n",
       "         [--, --, --, ..., --, --, --],\n",
       "         [--, --, --, ..., --, --, --],\n",
       "         ...,\n",
       "         [--, --, --, ..., --, --, --],\n",
       "         [--, --, --, ..., --, --, --],\n",
       "         [--, --, --, ..., --, --, --]]],\n",
       "  mask=[[[ True,  True,  True, ...,  True,  True,  True],\n",
       "         [ True,  True,  True, ...,  True,  True,  True],\n",
       "         [ True,  True,  True, ...,  True,  True,  True],\n",
       "         ...,\n",
       "         [ True,  True,  True, ...,  True,  True,  True],\n",
       "         [ True,  True,  True, ...,  True,  True,  True],\n",
       "         [ True,  True,  True, ...,  True,  True,  True]],\n",
       "\n",
       "        [[ True,  True,  True, ...,  True,  True,  True],\n",
       "         [ True,  True,  True, ...,  True,  True,  True],\n",
       "         [ True,  True,  True, ...,  True,  True,  True],\n",
       "         ...,\n",
       "         [False, False, False, ...,  True,  True,  True],\n",
       "         [False, False, False, ...,  True,  True,  True],\n",
       "         [False, False, False, ...,  True,  True,  True]],\n",
       "\n",
       "        [[ True,  True,  True, ...,  True,  True,  True],\n",
       "         [ True,  True,  True, ...,  True,  True,  True],\n",
       "         [ True,  True,  True, ...,  True,  True,  True],\n",
       "         ...,\n",
       "         [False, False, False, ...,  True,  True,  True],\n",
       "         [False, False, False, ...,  True,  True,  True],\n",
       "         [False, False, False, ...,  True,  True,  True]],\n",
       "\n",
       "        [[ True,  True,  True, ...,  True,  True,  True],\n",
       "         [ True,  True,  True, ...,  True,  True,  True],\n",
       "         [ True,  True,  True, ...,  True,  True,  True],\n",
       "         ...,\n",
       "         [ True,  True,  True, ...,  True,  True,  True],\n",
       "         [ True,  True,  True, ...,  True,  True,  True],\n",
       "         [ True,  True,  True, ...,  True,  True,  True]]],\n",
       "  fill_value=nan)"
      ]
     },
     "execution_count": 60,
     "metadata": {},
     "output_type": "execute_result"
    }
   ],
   "source": [
    "corrected_AOD = calibrate_data(blue_band_AOD, shape, calibration_dict)\n",
    "corrected_AOD"
   ]
  },
  {
   "cell_type": "code",
   "execution_count": 61,
   "id": "e2c8b4ba",
   "metadata": {},
   "outputs": [
    {
     "data": {
      "text/html": [
       "<div>\n",
       "<style scoped>\n",
       "    .dataframe tbody tr th:only-of-type {\n",
       "        vertical-align: middle;\n",
       "    }\n",
       "\n",
       "    .dataframe tbody tr th {\n",
       "        vertical-align: top;\n",
       "    }\n",
       "\n",
       "    .dataframe thead th {\n",
       "        text-align: right;\n",
       "    }\n",
       "</style>\n",
       "<table border=\"1\" class=\"dataframe\">\n",
       "  <thead>\n",
       "    <tr style=\"text-align: right;\">\n",
       "      <th></th>\n",
       "      <th>AOD</th>\n",
       "    </tr>\n",
       "  </thead>\n",
       "  <tbody>\n",
       "    <tr>\n",
       "      <th>count</th>\n",
       "      <td>1.203568e+06</td>\n",
       "    </tr>\n",
       "    <tr>\n",
       "      <th>mean</th>\n",
       "      <td>9.204344e-02</td>\n",
       "    </tr>\n",
       "    <tr>\n",
       "      <th>std</th>\n",
       "      <td>6.629422e-02</td>\n",
       "    </tr>\n",
       "    <tr>\n",
       "      <th>min</th>\n",
       "      <td>0.000000e+00</td>\n",
       "    </tr>\n",
       "    <tr>\n",
       "      <th>25%</th>\n",
       "      <td>4.500000e-02</td>\n",
       "    </tr>\n",
       "    <tr>\n",
       "      <th>50%</th>\n",
       "      <td>7.200000e-02</td>\n",
       "    </tr>\n",
       "    <tr>\n",
       "      <th>75%</th>\n",
       "      <td>1.220000e-01</td>\n",
       "    </tr>\n",
       "    <tr>\n",
       "      <th>max</th>\n",
       "      <td>5.940000e-01</td>\n",
       "    </tr>\n",
       "  </tbody>\n",
       "</table>\n",
       "</div>"
      ],
      "text/plain": [
       "                AOD\n",
       "count  1.203568e+06\n",
       "mean   9.204344e-02\n",
       "std    6.629422e-02\n",
       "min    0.000000e+00\n",
       "25%    4.500000e-02\n",
       "50%    7.200000e-02\n",
       "75%    1.220000e-01\n",
       "max    5.940000e-01"
      ]
     },
     "execution_count": 61,
     "metadata": {},
     "output_type": "execute_result"
    }
   ],
   "source": [
    "pd.DataFrame(corrected_AOD.ravel(), columns=['AOD']).describe()"
   ]
  },
  {
   "cell_type": "code",
   "execution_count": 66,
   "id": "a82b185a",
   "metadata": {},
   "outputs": [],
   "source": [
    "\"\"\"\n",
    "\n",
    "Aligning AOD data with real world coordinates\n",
    "\n",
    "\n",
    "\"\"\"\n",
    "\n",
    "\n",
    "def create_meshgrid(alignment_dict: dict, shape: list[int]):\n",
    "    \"\"\"Given an image shape, create a meshgrid of points\n",
    "    between bounding coordinates.\n",
    "    \n",
    "    Args:\n",
    "        alignment_dict (Dict): dictionary containing, at a minimum,\n",
    "            `upper_left` (tuple), `lower_right` (tuple), `crs` (str),\n",
    "            and `crs_params` (tuple).\n",
    "        shape (List[int]): dataset shape as a list of\n",
    "            [orbits, height, width].\n",
    "    \n",
    "    Returns:\n",
    "        xv (np.array): x (longitude) coordinates.\n",
    "        yv (np.array): y (latitude) coordinates.\n",
    "    \"\"\"\n",
    "    # Determine grid bounds using two coordinates\n",
    "    x0, y0 = alignment_dict[\"upper_left\"]\n",
    "    x1, y1 = alignment_dict[\"lower_right\"]\n",
    "    \n",
    "    # Interpolate points between corners, inclusive of bounds\n",
    "    x = np.linspace(x0, x1, shape[2], endpoint=True)\n",
    "    y = np.linspace(y0, y1, shape[1], endpoint=True)\n",
    "    \n",
    "    # Return two 2D arrays representing X & Y coordinates of all points\n",
    "    xv, yv = np.meshgrid(x, y)\n",
    "    return xv, yv\n",
    "\n",
    "xv, yv = create_meshgrid(alignment_dict, shape)"
   ]
  },
  {
   "cell_type": "code",
   "execution_count": 70,
   "id": "9cf843ed",
   "metadata": {},
   "outputs": [],
   "source": [
    "from pyproj import CRS, Proj\n",
    "from typing import Union\n",
    "\n",
    "# Source: https://spatialreference.org/ref/sr-org/modis-sinusoidal/proj4js/\n",
    "sinu_crs = Proj(f\"+proj=sinu +R={alignment_dict['crs_params'][0]} +nadgrids=@null +wktext\").crs\n",
    "wgs84_crs = CRS.from_epsg(\"4326\")\n",
    "\n",
    "def transform_arrays(\n",
    "    xv: Union[np.array, float],\n",
    "    yv: Union[np.array, float],\n",
    "    crs_from: CRS,\n",
    "    crs_to: CRS\n",
    "):\n",
    "    \"\"\"Transform points or arrays from one CRS to another CRS.\n",
    "    \n",
    "    Args:\n",
    "        xv (np.array or float): x (longitude) coordinates or value.\n",
    "        yv (np.array or float): y (latitude) coordinates or value.\n",
    "        crs_from (CRS): source coordinate reference system.\n",
    "        crs_to (CRS): destination coordinate reference system.\n",
    "    \n",
    "    Returns:\n",
    "        lon, lat (tuple): x coordinate(s), y coordinate(s)\n",
    "    \"\"\"\n",
    "    transformer = pyproj.Transformer.from_crs(\n",
    "        crs_from,\n",
    "        crs_to,\n",
    "        always_xy=True,\n",
    "    )\n",
    "    lon, lat = transformer.transform(xv, yv)\n",
    "    return lon, lat\n",
    "\n",
    "\n",
    "\n",
    "# Project sinu grid onto wgs84 grid\n",
    "lon, lat = transform_arrays(xv, yv, sinu_crs, wgs84_crs)"
   ]
  },
  {
   "cell_type": "code",
   "execution_count": 77,
   "id": "4278bed4",
   "metadata": {},
   "outputs": [
    {
     "name": "stdout",
     "output_type": "stream",
     "text": [
      "(1203568, 4)\n"
     ]
    },
    {
     "data": {
      "text/html": [
       "<div>\n",
       "<style scoped>\n",
       "    .dataframe tbody tr th:only-of-type {\n",
       "        vertical-align: middle;\n",
       "    }\n",
       "\n",
       "    .dataframe tbody tr th {\n",
       "        vertical-align: top;\n",
       "    }\n",
       "\n",
       "    .dataframe thead th {\n",
       "        text-align: right;\n",
       "    }\n",
       "</style>\n",
       "<table border=\"1\" class=\"dataframe\">\n",
       "  <thead>\n",
       "    <tr style=\"text-align: right;\">\n",
       "      <th></th>\n",
       "      <th>granule_id</th>\n",
       "      <th>orbit</th>\n",
       "      <th>geometry</th>\n",
       "      <th>value</th>\n",
       "    </tr>\n",
       "  </thead>\n",
       "  <tbody>\n",
       "    <tr>\n",
       "      <th>0</th>\n",
       "      <td>20180201T191000_maiac_la_0.hdf</td>\n",
       "      <td>0</td>\n",
       "      <td>POINT (-110.79078 35.36280)</td>\n",
       "      <td>0.110</td>\n",
       "    </tr>\n",
       "    <tr>\n",
       "      <th>1</th>\n",
       "      <td>20180201T191000_maiac_la_0.hdf</td>\n",
       "      <td>0</td>\n",
       "      <td>POINT (-110.78956 35.35446)</td>\n",
       "      <td>0.076</td>\n",
       "    </tr>\n",
       "    <tr>\n",
       "      <th>2</th>\n",
       "      <td>20180201T191000_maiac_la_0.hdf</td>\n",
       "      <td>0</td>\n",
       "      <td>POINT (-110.28947 35.28774)</td>\n",
       "      <td>0.112</td>\n",
       "    </tr>\n",
       "  </tbody>\n",
       "</table>\n",
       "</div>"
      ],
      "text/plain": [
       "                       granule_id  orbit                     geometry  value\n",
       "0  20180201T191000_maiac_la_0.hdf      0  POINT (-110.79078 35.36280)  0.110\n",
       "1  20180201T191000_maiac_la_0.hdf      0  POINT (-110.78956 35.35446)  0.076\n",
       "2  20180201T191000_maiac_la_0.hdf      0  POINT (-110.28947 35.28774)  0.112"
      ]
     },
     "execution_count": 77,
     "metadata": {},
     "output_type": "execute_result"
    }
   ],
   "source": [
    "def convert_array_to_df(\n",
    "    corrected_arr: np.ma.MaskedArray,\n",
    "    lat:np.ndarray,\n",
    "    lon: np.ndarray,\n",
    "    granule_id: str,\n",
    "    crs: CRS,\n",
    "    total_bounds: np.ndarray = None\n",
    "):\n",
    "    \"\"\"Align data values with latitude and longitude coordinates\n",
    "    and return a GeoDataFrame.\n",
    "    \n",
    "    Args:\n",
    "        corrected_arr (np.ma.MaskedArray): data values for each pixel.\n",
    "        lat (np.ndarray): latitude for each pixel.\n",
    "        lon (np.ndarray): longitude for each pixel.\n",
    "        granule_id (str): granule name.\n",
    "        crs (CRS): coordinate reference system\n",
    "        total_bounds (np.ndarray, optional): If provided,\n",
    "            will filter out points that fall outside of these bounds.\n",
    "            Composed of xmin, ymin, xmax, ymax.\n",
    "    \"\"\"\n",
    "    lats = lat.ravel()\n",
    "    lons = lon.ravel()\n",
    "    n_orbits = len(corrected_arr)\n",
    "    size = lats.size\n",
    "    values = {\n",
    "        \"value\": np.concatenate([d.data.ravel() for d in corrected_arr]),\n",
    "        \"lat\": np.tile(lats, n_orbits),\n",
    "        \"lon\": np.tile(lons, n_orbits),\n",
    "        \"orbit\": np.arange(n_orbits).repeat(size),\n",
    "        \"granule_id\": [granule_id] * size * n_orbits\n",
    "        \n",
    "    }\n",
    "    \n",
    "    df = pd.DataFrame(values).dropna()\n",
    "    if total_bounds is not None:\n",
    "        x_min, y_min, x_max, y_max = total_bounds\n",
    "        df = df[df.lon.between(x_min, x_max) & df.lat.between(y_min, y_max)]\n",
    "    \n",
    "    gdf = gpd.GeoDataFrame(df)\n",
    "    gdf[\"geometry\"] = gpd.points_from_xy(gdf.lon, gdf.lat)\n",
    "    gdf.crs = crs\n",
    "    return gdf[[\"granule_id\", \"orbit\", \"geometry\", \"value\"]].reset_index(drop=True)\n",
    "\n",
    "gdf = convert_array_to_df(corrected_AOD, lat, lon, '20180201T191000_maiac_la_0.hdf', wgs84_crs)\n",
    "print(gdf.shape)\n",
    "gdf.head(3)"
   ]
  },
  {
   "cell_type": "code",
   "execution_count": 78,
   "id": "00a85973",
   "metadata": {},
   "outputs": [
    {
     "data": {
      "text/plain": [
       "'\\n\\nWill derive features from this and train a model tomorrow\\n\\n\\n'"
      ]
     },
     "execution_count": 78,
     "metadata": {},
     "output_type": "execute_result"
    }
   ],
   "source": [
    "\"\"\"\n",
    "\n",
    "Will derive features from this and train a model on Tuesday.\n",
    "\n",
    "\n",
    "\"\"\""
   ]
  }
 ],
 "metadata": {
  "kernelspec": {
   "display_name": "nasa_conda",
   "language": "python",
   "name": "nasa_conda"
  },
  "language_info": {
   "codemirror_mode": {
    "name": "ipython",
    "version": 3
   },
   "file_extension": ".py",
   "mimetype": "text/x-python",
   "name": "python",
   "nbconvert_exporter": "python",
   "pygments_lexer": "ipython3",
   "version": "3.10.2"
  }
 },
 "nbformat": 4,
 "nbformat_minor": 5
}
